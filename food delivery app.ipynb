{
 "cells": [
  {
   "cell_type": "code",
   "execution_count": 14,
   "id": "968b4bb1",
   "metadata": {},
   "outputs": [],
   "source": [
    "import json\n",
    "import datetime\n",
    "\n",
    "def register_user(user_json,name, password, email, phn,address):\n",
    "    user= {\n",
    "        \"id\": 1,\n",
    "        \"name\": name,\n",
    "        \"password\":password,\n",
    "        \"email address\":email,\n",
    "        \"phone number\":phn,\n",
    "        \"Address\":address,\n",
    "        \"order history\":{}\n",
    "    }\n",
    "    try:\n",
    "        file=open(user_json,\"r+\")\n",
    "        content=json.load(file)\n",
    "        for i in range(len(content)):\n",
    "            if content[i][\"phone number\"] == phn:\n",
    "                file.close()\n",
    "                return \"user already exists\"\n",
    "        else:\n",
    "            user[\"id\"]=len(content) + 1\n",
    "            content.append(user)\n",
    "    except JSONDecodeError:\n",
    "        content=[]\n",
    "        content.append(user)\n",
    "    file.seek(0)\n",
    "    file.truncate()\n",
    "    json.dump(content,file,indent=4)\n",
    "    file.close()\n",
    "    \n",
    "    return \"success\"\n",
    "\n",
    "        "
   ]
  },
  {
   "cell_type": "code",
   "execution_count": 17,
   "id": "178fe037",
   "metadata": {},
   "outputs": [
    {
     "name": "stdout",
     "output_type": "stream",
     "text": [
      "success\n"
     ]
    }
   ],
   "source": [
    "\n",
    "print(register_user(\"user.json\", \"charlie\", 123454569, \"sharonjeyaseeli27@gmail.com\", 7449103273,\"anagha d20 visthara apartment madurai\"))\n",
    "     "
   ]
  },
  {
   "cell_type": "code",
   "execution_count": 24,
   "id": "6f746036",
   "metadata": {},
   "outputs": [],
   "source": [
    "def user_order_history(user_json,user_id):\n",
    "    file=open(user_json,\"r+\")\n",
    "    content=json.load(file)\n",
    "    for i in range(len(content)):\n",
    "        if content [i][\"id\"]==user_id:\n",
    "            print(\"order History\")\n",
    "            print(\"date     |         Order\")\n",
    "            for i,j in content[i][\"order history\"].items():\n",
    "                print(f\"{i} | {j}\")\n",
    "            file.close()\n",
    "            return True\n",
    "    file.close()\n",
    "    return False"
   ]
  },
  {
   "cell_type": "code",
   "execution_count": 25,
   "id": "0f3f9fb8",
   "metadata": {},
   "outputs": [
    {
     "name": "stdout",
     "output_type": "stream",
     "text": [
      "order History\n",
      "date     |         Order\n",
      "04-27-22 | ['poori', 'poori', 'poori', 'poori']\n"
     ]
    },
    {
     "data": {
      "text/plain": [
       "True"
      ]
     },
     "execution_count": 25,
     "metadata": {},
     "output_type": "execute_result"
    }
   ],
   "source": [
    "user_order_history(\"user.json\",2)"
   ]
  },
  {
   "cell_type": "code",
   "execution_count": 5,
   "id": "b7a0ba9b",
   "metadata": {},
   "outputs": [],
   "source": [
    "def user_placeorder (user_json, food_json, user_id, food_name, quantity):\n",
    "    date=datetime.datetime.today().strftime('%m-%d-%y')\n",
    "    file=open(user_json,\"r+\")\n",
    "    content=json.load(file)\n",
    "    file1=open(food_json,\"r+\")\n",
    "    content1=json.load(file1)\n",
    "    for i in range(len(content1)):\n",
    "        if content1[i][\"name\"]==food_name:\n",
    "            if content1[i][\"no of plates\"] >= quantity:\n",
    "                for j in range(len(content)):\n",
    "                    if content[j][\"id\"] == user_id:\n",
    "                        content1[i][\"no of plates\"]-=quantity\n",
    "                        if date not in content[j][\"order history\"]:\n",
    "                            content[j][\"order history\"][date]=[content1[i][\"name\"]]\n",
    "                        else:\n",
    "                            content[j][\"order history\"][date].append(content1[i][\"name\"])\n",
    "            else:\n",
    "                    print(\"pls enter the less quantity\")\n",
    "                    break\n",
    "        else:\n",
    "            print(\"food not available\")\n",
    "            break\n",
    "    file.seek(0)\n",
    "    file.truncate()\n",
    "    json.dump(content,file,indent=4)\n",
    "    file.close()\n",
    "                                        \n",
    "    file1.seek(0)                                                                 \n",
    "    file1.truncate()\n",
    "    json.dump(content1,file1,indent=4)                                                                \n",
    "    file1.close()                                                                \n",
    "                                                                     \n",
    "                                                                     \n",
    "                                                                     \n",
    "                                                                     \n",
    "                                                                     "
   ]
  },
  {
   "cell_type": "code",
   "execution_count": 129,
   "id": "f7b22b2a",
   "metadata": {},
   "outputs": [
    {
     "name": "stdout",
     "output_type": "stream",
     "text": [
      "food not available\n"
     ]
    }
   ],
   "source": [
    "user_placeorder(\"user.json\",\"food.json\",2,\"poori\",2)"
   ]
  },
  {
   "cell_type": "code",
   "execution_count": 52,
   "id": "4ebbea56",
   "metadata": {},
   "outputs": [
    {
     "name": "stdout",
     "output_type": "stream",
     "text": [
      "food not available\n"
     ]
    }
   ],
   "source": [
    "user_placeorder(\"user.json\",\"food.json\",3,\"vegan burger\",1)"
   ]
  },
  {
   "cell_type": "code",
   "execution_count": 50,
   "id": "14d50b29",
   "metadata": {},
   "outputs": [],
   "source": [
    "def add_food(food_json, food_name, price,no_plates=1):\n",
    "    food= {\n",
    "        \"id\":1,\n",
    "        \"name\": food_name,\n",
    "        \"price\":price,\n",
    "        \"no of plates\": no_plates\n",
    "        \n",
    "    }\n",
    "    try:\n",
    "        fp=open(food_json,\"r+\")\n",
    "        content=json.load(fp)\n",
    "        for i in range (len(content)):\n",
    "            if content[i][\"name\"] == food_name:\n",
    "                fp.close()\n",
    "                return \"food already available\"\n",
    "        food[\"id\"]=len(content)+1\n",
    "        content.append(food)\n",
    "    except JSONDecodeError:\n",
    "        content =[]\n",
    "        content.append(food)\n",
    "    fp.seek(0)\n",
    "    fp.truncate()\n",
    "    json.dump(content,fp,indent =4)\n",
    "    fp.close()\n",
    "    return \"succss\""
   ]
  },
  {
   "cell_type": "code",
   "execution_count": 43,
   "id": "22e8112a",
   "metadata": {},
   "outputs": [
    {
     "data": {
      "text/plain": [
       "'succss'"
      ]
     },
     "execution_count": 43,
     "metadata": {},
     "output_type": "execute_result"
    }
   ],
   "source": [
    "add_food(\"food.json\",\"Tandoori Chicken\",240,4)"
   ]
  },
  {
   "cell_type": "code",
   "execution_count": 44,
   "id": "56a20696",
   "metadata": {},
   "outputs": [
    {
     "data": {
      "text/plain": [
       "'succss'"
      ]
     },
     "execution_count": 44,
     "metadata": {},
     "output_type": "execute_result"
    }
   ],
   "source": [
    "add_food(\"food.json\",\"Vegan Burger\",320,1)"
   ]
  },
  {
   "cell_type": "code",
   "execution_count": 51,
   "id": "6134173e",
   "metadata": {},
   "outputs": [
    {
     "data": {
      "text/plain": [
       "'food already available'"
      ]
     },
     "execution_count": 51,
     "metadata": {},
     "output_type": "execute_result"
    }
   ],
   "source": [
    "add_food(\"food.json\",\"Truffle Cake\",900,\"500gm\")"
   ]
  },
  {
   "cell_type": "code",
   "execution_count": 7,
   "id": "1f1cad33",
   "metadata": {},
   "outputs": [],
   "source": [
    "def update_food(food_json,food_id,no_plates=1):\n",
    "    file=open(food_json,\"r+\")\n",
    "    content=json.load(file)\n",
    "    for i in range (len(content)):\n",
    "        if (content[i][\"id\"]== food_id):\n",
    "            content[i][\"no of plates\"] +=no_plates\n",
    "            break\n",
    "    file.seek(0)\n",
    "    file.truncate()\n",
    "    json.dump(content,file,indent=4)\n",
    "    file.close()\n",
    "    return \"success\"\n",
    "    "
   ]
  },
  {
   "cell_type": "code",
   "execution_count": 125,
   "id": "1f1c4d42",
   "metadata": {},
   "outputs": [
    {
     "data": {
      "text/plain": [
       "'success'"
      ]
     },
     "execution_count": 125,
     "metadata": {},
     "output_type": "execute_result"
    }
   ],
   "source": [
    "update_food(\"food.json\",1,5)"
   ]
  },
  {
   "cell_type": "code",
   "execution_count": 37,
   "id": "f78dccd5",
   "metadata": {},
   "outputs": [],
   "source": [
    "def remove_food(food_json,food_id):\n",
    "    file=open(food_json,\"r+\")\n",
    "    content=json.load(file)\n",
    "    for i in range(len(content)):\n",
    "        if content[i][\"id\"] == food_id:\n",
    "            del content[i]\n",
    "            file.seek(0)\n",
    "            file.truncate()\n",
    "            json.dump(content,file,indent=4)\n",
    "            file.close()\n",
    "            return \"success\"\n",
    "    return \"pls enter valid food id\""
   ]
  },
  {
   "cell_type": "code",
   "execution_count": 42,
   "id": "d8b07d3b",
   "metadata": {},
   "outputs": [
    {
     "data": {
      "text/plain": [
       "'success'"
      ]
     },
     "execution_count": 42,
     "metadata": {},
     "output_type": "execute_result"
    }
   ],
   "source": [
    "remove_food(\"food.json\",5)"
   ]
  },
  {
   "cell_type": "code",
   "execution_count": 53,
   "id": "1294587f",
   "metadata": {},
   "outputs": [],
   "source": [
    "def read_food(food_json):\n",
    "    file=open(food_json,\"r+\")\n",
    "    content =json.load(file)\n",
    "    print(\"menu\")\n",
    "    for i in range(len(content)):\n",
    "        print(\"id : \" ,content[i][\"id\"])\n",
    "        print(f\"--->food name: {content[i]['name']}\")\n",
    "        print(f\"--->number of plates: {content[i]['no of plates']}\")\n",
    "    file.close()\n",
    "    return True"
   ]
  },
  {
   "cell_type": "code",
   "execution_count": 54,
   "id": "37103822",
   "metadata": {},
   "outputs": [
    {
     "name": "stdout",
     "output_type": "stream",
     "text": [
      "menu\n",
      "id :  1\n",
      "--->food name: Tandoori Chicken\n",
      "--->number of plates: 4\n",
      "id :  2\n",
      "--->food name: Vegan Burger\n",
      "--->number of plates: 1\n",
      "id :  3\n",
      "--->food name: Truffle Cake\n",
      "--->number of plates: 500gm\n"
     ]
    },
    {
     "data": {
      "text/plain": [
       "True"
      ]
     },
     "execution_count": 54,
     "metadata": {},
     "output_type": "execute_result"
    }
   ],
   "source": [
    "read_food(\"food.json\")"
   ]
  },
  {
   "cell_type": "code",
   "execution_count": 9,
   "id": "1663979d",
   "metadata": {},
   "outputs": [],
   "source": [
    "def user_place_order(user_json, food_json, user_id, food_name, quantity):\n",
    "    date = datetime.datetime.today().strftime('%m-%d-%Y')\n",
    "    file = open(user_json, \"r+\")\n",
    "    content = json.load(file)\n",
    "    file1 = open(food_json, \"r+\")\n",
    "    content1 = json.load(file1)\n",
    "    for i in range(len(content1)):\n",
    "        if content1[i][\"name\"] == food_name:\n",
    "            if content1[i][\"no of plates\"] >= quantity:\n",
    "                for j in range(len(content)):\n",
    "                    if content[j][\"id\"] == user_id:\n",
    "                        content1[i][\"no of plates\"]-=quantity\n",
    "                        if date not in content[j][\"order history\"]:\n",
    "                            content[j][\"order history\"][date] = [content1[i][\"name\"]]\n",
    "                        else:\n",
    "                            content[j][\"order history\"][date].append(content1[i][\"name\"])\n",
    "            else:\n",
    "                print(\"Pls Enter less quantity\")\n",
    "                break    \n",
    "        else:\n",
    "            print(\"Food Not Available\")\n",
    "            break\n",
    "    file.seek(0)\n",
    "    file.truncate()\n",
    "    json.dump(content, file, indent=4)\n",
    "    file.close()\n",
    "    \n",
    "    file1.seek(0)\n",
    "    file1.truncate()\n",
    "    json.dump(content1, file1, indent=4)\n",
    "    file1.close()\n"
   ]
  },
  {
   "cell_type": "code",
   "execution_count": 10,
   "id": "5b017ff4",
   "metadata": {},
   "outputs": [
    {
     "name": "stdout",
     "output_type": "stream",
     "text": [
      "Food Not Available\n"
     ]
    }
   ],
   "source": [
    "user_place_order(\"user.json\",\"food.json\",2,\"tandoori\",1)"
   ]
  },
  {
   "cell_type": "code",
   "execution_count": 140,
   "id": "9f571bae",
   "metadata": {},
   "outputs": [
    {
     "name": "stdout",
     "output_type": "stream",
     "text": [
      "Food Not Available\n"
     ]
    }
   ],
   "source": [
    "user_place_order(\"user.json\",\"food.json\", 1, \"vanilla icecream\", 1)"
   ]
  },
  {
   "cell_type": "code",
   "execution_count": null,
   "id": "d47ba617",
   "metadata": {},
   "outputs": [
    {
     "name": "stdout",
     "output_type": "stream",
     "text": [
      "do you want to order food y/n: y\n",
      "MENU: \n",
      "1.Register\n",
      "2.Login\n",
      "2.Exit\n",
      "choose one value from the above: 2\n",
      "\n",
      "1.user\n",
      "2.admin\n",
      "3.exit\n",
      "choose one value from the above: 2\n",
      "$----------admin--------$\n",
      "enter name: kunal\n",
      "enter password : 123456789\n",
      "\n",
      "1.Add food\n",
      "2.edit food\n",
      "3.view food\n",
      "4.remove food\n",
      "enter your choice admin!!1\n",
      "enter food name: tandoori\n",
      "enter the stock value: 12\n",
      "\n",
      "1.Add food\n",
      "2.edit food\n",
      "3.view food\n",
      "4.remove food\n",
      "enter your choice admin!!3\n",
      "menu\n",
      "id :  1\n",
      "--->food name: poori\n",
      "--->number of plates: 0\n",
      "id :  2\n",
      "--->food name: pongal\n",
      "--->number of plates: 15\n",
      "id :  3\n",
      "--->food name: vanilla icecream\n",
      "--->number of plates: 15\n",
      "id :  4\n",
      "--->food name: tandoori\n",
      "--->number of plates: 1\n",
      "\n",
      "1.Add food\n",
      "2.edit food\n",
      "3.view food\n",
      "4.remove food\n"
     ]
    }
   ],
   "source": [
    "import json\n",
    "val=input(\"do you want to order food y/n: \")\n",
    "while val.lower()== \"y\":\n",
    "    print(\"MENU: \")\n",
    "    print(\"1.Register\")\n",
    "    print(\"2.Login\")\n",
    "    print(\"2.Exit\")\n",
    "    val1=input(\"choose one value from the above: \")\n",
    "    if val1 == \"1\":\n",
    "        print()\n",
    "        name=input(\"enter the name: \")\n",
    "        password=input(\"enter the password: \")\n",
    "        age=int(input(\"enter your age: \"))\n",
    "        phn=input(\"enter your phone number: \")\n",
    "        register_user(\"user.json\",name,password,age,phn)\n",
    "        \n",
    "        \n",
    "        \n",
    "        \n",
    "    \n",
    "    elif val1 ==\"2\":\n",
    "        print()\n",
    "        while True:\n",
    "            print(\"1.user\")\n",
    "            print(\"2.admin\")\n",
    "            print(\"3.exit\")\n",
    "            val2=input(\"choose one value from the above: \")\n",
    "            if val2==\"1\":\n",
    "                print(\"--------User--------\")\n",
    "                user=input(\"enter name: \")\n",
    "                password=input(\" enter password: \")\n",
    "                file=open(\"user.json\",\"r+\")\n",
    "                content = json.load(file)\n",
    "                for i in range(len(content)):\n",
    "                    if content[i][\"name\"]==user:\n",
    "                        if content[i][\"password\"]==password:\n",
    "                            while True:\n",
    "                                print()\n",
    "                                print(\"1.view menu\")\n",
    "                                print(\"2.place new order\")\n",
    "                                print(\"3.show history of order\")\n",
    "                                print(\"4. update profile\")\n",
    "                                print(\"5.exit\")\n",
    "                                val3=input(\"enter your choice user: \")\n",
    "                                if val3==\"1\":\n",
    "                                      read_food(\"food.json\")\n",
    "                                elif val ==\"2\":\n",
    "                                      user_id=input(\"enter user_id: \")\n",
    "                                      food_name=input(\"enter the food name: \")\n",
    "                                      quantity =int(input(\"enter the quantity: \"))\n",
    "                                      user_place_order(\"user.json\",\"food.json\", user_id, food_name, quantity)\n",
    "                                elif val ==\"3\":\n",
    "                                      user_id=input(\"enter user id: \")\n",
    "                                      user_order_history(\"user.json\",user_id)\n",
    "                            \n",
    "                                  \n",
    "                            \n",
    "                                  \n",
    "                                else:\n",
    "                                    file.close()\n",
    "                                    print(\"thanks for your visit,Visit again\")\n",
    "                                \n",
    "                                \n",
    "                                  \n",
    "                                  \n",
    "                                  \n",
    "                    else:\n",
    "                        print(\"wrong password!!\")\n",
    "                        break\n",
    "                else:\n",
    "                    print(\"wrong username!!\")\n",
    "                    break\n",
    "                \n",
    "                            \n",
    "            elif val2==\"2\":\n",
    "                print(\"$----------admin--------$\")\n",
    "                user=input(\"enter name: \")\n",
    "                password = input(\"enter password : \")\n",
    "                file=open(\"admin.json\",\"r+\")\n",
    "                content=json.load(file)\n",
    "                if content[\"name\"]==user:\n",
    "                    if content[\"password\"]==password:\n",
    "                        while True:\n",
    "                            print()\n",
    "                            print(\"1.Add food\")\n",
    "                            print(\"2.edit food\")\n",
    "                            print(\"3.view food\")\n",
    "                            print(\"4.remove food\")\n",
    "                            val3=input(\"enter your choice admin!!\")\n",
    "                            if val3 ==\"1\":\n",
    "                                food_name= input(\"enter food name: \")\n",
    "                                no_plates=int(input (\"enter the stock value: \"))\n",
    "                                add_food(\"food.json\",food_name,no_plates=1)\n",
    "                            elif val3==\"2\":\n",
    "                                food_id=input(\"enter food id: \")\n",
    "                                no_plates=int(input (\"enter the stock value: \"))\n",
    "                                update_food(\"food.json\",food_id,no_plates=1)\n",
    "                            elif val3==\"3\":\n",
    "                                read_food(\"food.json\")\n",
    "                            elif val3==\"4\":\n",
    "                                food_id=input(\"enter food id: \")\n",
    "                                remove_food(\"food.json\",food_id)\n",
    "                            else:\n",
    "                                file.close()\n",
    "                                print(\"bye!!!\")\n",
    "                                break\n",
    "                                \n",
    "                        \n",
    "                                \n",
    "                                \n",
    "\n",
    "                     \n",
    "                    else:\n",
    "                        print(\"wrong password!!\")\n",
    "                        break\n",
    "                else:\n",
    "                    \n",
    "                    print(\"wrong username!!\")\n",
    "                    break\n",
    "        \n",
    "                \n",
    "                \n",
    "                \n",
    "            \n",
    "    \n",
    "    else:\n",
    "        print(\"siyonara!!\")\n",
    "        break\n",
    "    \n"
   ]
  },
  {
   "cell_type": "code",
   "execution_count": null,
   "id": "0b69ca16",
   "metadata": {},
   "outputs": [],
   "source": []
  }
 ],
 "metadata": {
  "kernelspec": {
   "display_name": "Python 3 (ipykernel)",
   "language": "python",
   "name": "python3"
  },
  "language_info": {
   "codemirror_mode": {
    "name": "ipython",
    "version": 3
   },
   "file_extension": ".py",
   "mimetype": "text/x-python",
   "name": "python",
   "nbconvert_exporter": "python",
   "pygments_lexer": "ipython3",
   "version": "3.10.2"
  }
 },
 "nbformat": 4,
 "nbformat_minor": 5
}
